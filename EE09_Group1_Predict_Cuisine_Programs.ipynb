{
 "cells": [
  {
   "cell_type": "markdown",
   "metadata": {
    "id": "35VvxTHxJhPM"
   },
   "source": [
    "## In this file of code, we are writing two programs using probability theory: \n",
    "<ul>\n",
    "<li> The first one will predict the country's cuisine from the list of ingredients of users input, using probablity.</li>\n",
    "<li> The second one will determine if the ingredient is unique to only one culture or not.</li>\n",
    "</ul>"
   ]
  },
  {
   "cell_type": "code",
   "execution_count": 1,
   "metadata": {
    "colab": {
     "base_uri": "https://localhost:8080/"
    },
    "id": "4Ecc25SGUNbk",
    "outputId": "0c2535f5-a46f-4eca-c315-2e055d5563f3"
   },
   "outputs": [
    {
     "data": {
      "text/plain": [
       "id             0\n",
       "cuisine        0\n",
       "ingredients    0\n",
       "dtype: int64"
      ]
     },
     "execution_count": 1,
     "metadata": {},
     "output_type": "execute_result"
    }
   ],
   "source": [
    "import numpy as np\n",
    "import pandas as pd \n",
    "import seaborn as sb \n",
    "from collections import Counter \n",
    "from itertools import chain, combinations\n",
    "data = pd.read_json(\"train.json\")\n",
    "data.isnull().sum()"
   ]
  },
  {
   "cell_type": "markdown",
   "metadata": {
    "id": "Zcg-O8MyKXkZ"
   },
   "source": [
    "## We will use the paragraph of code that are used in our part 1 - exploratory analysis to evaluate the percentage of different ingredients in different cuisine\n",
    "\n",
    "More detailed information about the code is shown in each comment line"
   ]
  },
  {
   "cell_type": "code",
   "execution_count": 2,
   "metadata": {
    "colab": {
     "base_uri": "https://localhost:8080/"
    },
    "id": "RmTVitBaVigA",
    "outputId": "09f79e1e-e1aa-4838-e30d-68432357aef2"
   },
   "outputs": [
    {
     "name": "stdout",
     "output_type": "stream",
     "text": [
      "greek cuisine has 86 specific ingredients and uses 1198  different ingredients\n",
      "southern_us cuisine has 446 specific ingredients and uses 2462  different ingredients\n",
      "filipino cuisine has 78 specific ingredients and uses 947  different ingredients\n",
      "indian cuisine has 270 specific ingredients and uses 1664  different ingredients\n",
      "jamaican cuisine has 42 specific ingredients and uses 877  different ingredients\n",
      "spanish cuisine has 64 specific ingredients and uses 1263  different ingredients\n",
      "italian cuisine has 852 specific ingredients and uses 2929  different ingredients\n",
      "mexican cuisine has 716 specific ingredients and uses 2684  different ingredients\n",
      "chinese cuisine has 317 specific ingredients and uses 1792  different ingredients\n",
      "british cuisine has 110 specific ingredients and uses 1166  different ingredients\n",
      "thai cuisine has 121 specific ingredients and uses 1376  different ingredients\n",
      "vietnamese cuisine has 65 specific ingredients and uses 1108  different ingredients\n",
      "cajun_creole cuisine has 148 specific ingredients and uses 1576  different ingredients\n",
      "brazilian cuisine has 59 specific ingredients and uses 853  different ingredients\n",
      "french cuisine has 288 specific ingredients and uses 2102  different ingredients\n",
      "japanese cuisine has 213 specific ingredients and uses 1439  different ingredients\n",
      "irish cuisine has 49 specific ingredients and uses 999  different ingredients\n",
      "korean cuisine has 64 specific ingredients and uses 898  different ingredients\n",
      "moroccan cuisine has 48 specific ingredients and uses 974  different ingredients\n",
      "russian cuisine has 56 specific ingredients and uses 872  different ingredients\n",
      "\n",
      "4092 ingredients are specific to one cuisine and \n",
      "2622 ingredients are not specific to one cuisine\n"
     ]
    }
   ],
   "source": [
    "\n",
    "single_cuisines = data.cuisine.unique()\n",
    "\n",
    "n_single_cuisines = len(single_cuisines) #20 #single_cusines mean country\n",
    "\n",
    "counted_ingredients = Counter(chain.from_iterable(data.ingredients.tolist())) # Builds a counter to count the occurences of each ingredient\n",
    "single_ingredients = list(counted_ingredients.keys()) # Builds a list will all single ingredients\n",
    "n_single_ingredients = len(single_ingredients) # Counts the number of single ingredients - 6714\n",
    "\n",
    "specific_ingredients = {} \n",
    "sorted_ingredients = {} \n",
    "sorted_not_specific_ingredients = {}\n",
    "not_specific_ingredients = single_ingredients # it is list of single ingredient. This list will be subtracted gradually after each cusine, substracted by the list of the specific ingredients in that country\n",
    "\n",
    "for cuisine in single_cuisines : #for each country - Eg. Vietnam\n",
    "    sorted_ingredients[cuisine] = Counter(chain.from_iterable(data[data.cuisine == cuisine].ingredients.tolist())) #get/count all of the rows that contains the cuisine of Vietnam\n",
    "    other_cuisines_ingredients = Counter(chain.from_iterable(data[data.cuisine != cuisine].ingredients.tolist())) #get/count all of the rows that does not come from this Vietnamese cuisine\n",
    "    intersection  = Counter(sorted_ingredients[cuisine]) & Counter(other_cuisines_ingredients) #find the intersection of the ingredients between the Vietnamese cuisine and other region cuisine - that means find the list of ingredients that are not unique\n",
    "    specific_ingredients[cuisine] = list(sorted_ingredients[cuisine] - intersection) #find and list the unique ingredients of the Vietnamese cuisine, after substracting the common ingredients from the overall list of ingredients of Vietnam\n",
    "    not_specific_ingredients = list(Counter(not_specific_ingredients) - Counter(specific_ingredients[cuisine])) #list and count the list of common ingredients (used by 2 or more countries) in Vietnam, aftr substracting the specific ingredient in Vietnam from a list of single ingredient.#This is the total list of the common ingredients, which will be gradually substracted after each cuisine is runned through.\n",
    "    sorted_not_specific_ingredients[cuisine] = list(sorted_ingredients[cuisine] - Counter(specific_ingredients[cuisine])) #the list of common ingredients that are only used by VietNam.\n",
    "    # Print info about current cuisine\n",
    "    print(cuisine + \" cuisine has \" + str(len(specific_ingredients[cuisine])) + \" specific ingredients and uses \"+ str(len(sorted_ingredients[cuisine])) + \"  different ingredients\")\n",
    " \n",
    "sum_specific_ingredients = sum(len(v) for v in specific_ingredients.values()) #calculate the sum of the specific ingredients in every country/culture\n",
    "sum_not_specific_ingredients = len(not_specific_ingredients) #calculate the sum of ingredients that are used by 2 or more countries\n",
    "\n",
    "print(\"\\n\" + str(sum_specific_ingredients) + \" ingredients are specific to one cuisine and \\n\" + str(sum_not_specific_ingredients)+\" ingredients are not specific to one cuisine\")\n",
    "recipe_by_cuisine = data.groupby('cuisine').cuisine.count().to_dict() #How many cuisines of Vietnam in this Dataset? How many cusines of China in this DataSet?"
   ]
  },
  {
   "cell_type": "markdown",
   "metadata": {
    "id": "fI7ZKI8ZLFmO"
   },
   "source": [
    "### Test our above function for listing the specific ingredients in vietnam"
   ]
  },
  {
   "cell_type": "code",
   "execution_count": 3,
   "metadata": {
    "colab": {
     "base_uri": "https://localhost:8080/"
    },
    "id": "1qDqKmuYr61_",
    "outputId": "b000290d-ccab-4106-9a00-03756236c671"
   },
   "outputs": [
    {
     "data": {
      "text/plain": [
       "['rice paper',\n",
       " 'vermicelli noodles',\n",
       " 'pickled carrots',\n",
       " 'rice vermicelli',\n",
       " 'asian basil',\n",
       " 'Vietnamese coriander',\n",
       " 'perilla',\n",
       " 'coconut juice',\n",
       " 'banana blossom',\n",
       " 'bawang goreng',\n",
       " 'toasted nuts',\n",
       " 'yellow rock sugar',\n",
       " 'dried wood ear mushrooms',\n",
       " 'pork roll',\n",
       " 'roast pork seasoning mix',\n",
       " 'banh hoi',\n",
       " 'tri tip',\n",
       " 'nuoc mam',\n",
       " 'thin rice stick noodles',\n",
       " 'vietnamese fish sauce',\n",
       " 'ground coffee',\n",
       " 'opo squash',\n",
       " 'Conimex Wok Olie',\n",
       " 'Conimex Woksaus Specials Vietnamese Gember Knoflook',\n",
       " 'anise basil',\n",
       " 'rice paddy herb',\n",
       " 'hero rolls',\n",
       " 'Italian basil',\n",
       " 'nuoc cham',\n",
       " 'mo hanh',\n",
       " 'balm',\n",
       " 'banh pho rice noodles',\n",
       " 'nuoc nam',\n",
       " 'vietnamese rice paper',\n",
       " 'eye of the round',\n",
       " 'shrimp chips',\n",
       " 'granulated tapioca',\n",
       " 'wish-bone light asian sesame ginger vinaigrette dressing',\n",
       " 'asian chili red sauc',\n",
       " 'dragon fruit',\n",
       " 'fine egg noodles',\n",
       " 'pâté',\n",
       " 'long buns',\n",
       " 'cinnamon candy canes',\n",
       " 'small yellow onion',\n",
       " 'asian',\n",
       " 'balm leaves',\n",
       " 'hubbard squash',\n",
       " 'low-fat sweetened condensed milk',\n",
       " 'broccoli romanesco',\n",
       " 'laksa paste',\n",
       " 'yam bean',\n",
       " 'dulong',\n",
       " 'boneless sirloin',\n",
       " 'tuong',\n",
       " 'oyster liquor',\n",
       " 'Foster Farms boneless skinless chicken breasts',\n",
       " 'anise powder',\n",
       " 'french style sandwich rolls',\n",
       " 'liverwurst',\n",
       " 'do chua',\n",
       " 'tri-tip steak',\n",
       " 'drum',\n",
       " 'chicken egg',\n",
       " 'whole grain baguette']"
      ]
     },
     "execution_count": 3,
     "metadata": {},
     "output_type": "execute_result"
    }
   ],
   "source": [
    "specific_ingredients[\"vietnamese\"]"
   ]
  },
  {
   "cell_type": "markdown",
   "metadata": {
    "id": "AyGoopnlLvB4"
   },
   "source": [
    "### Create a dataframe with columns are name of 20 cultures. All the data is 0."
   ]
  },
  {
   "cell_type": "code",
   "execution_count": 4,
   "metadata": {
    "colab": {
     "base_uri": "https://localhost:8080/",
     "height": 226
    },
    "id": "tSyiwDBjky48",
    "outputId": "0ea68bfb-7b08-49b3-80f4-52d5e9a78310"
   },
   "outputs": [
    {
     "data": {
      "text/html": [
       "<div>\n",
       "<style scoped>\n",
       "    .dataframe tbody tr th:only-of-type {\n",
       "        vertical-align: middle;\n",
       "    }\n",
       "\n",
       "    .dataframe tbody tr th {\n",
       "        vertical-align: top;\n",
       "    }\n",
       "\n",
       "    .dataframe thead th {\n",
       "        text-align: right;\n",
       "    }\n",
       "</style>\n",
       "<table border=\"1\" class=\"dataframe\">\n",
       "  <thead>\n",
       "    <tr style=\"text-align: right;\">\n",
       "      <th></th>\n",
       "      <th>ingredient_name</th>\n",
       "      <th>greek</th>\n",
       "      <th>southern_us</th>\n",
       "      <th>filipino</th>\n",
       "      <th>indian</th>\n",
       "      <th>jamaican</th>\n",
       "      <th>spanish</th>\n",
       "      <th>italian</th>\n",
       "      <th>mexican</th>\n",
       "      <th>chinese</th>\n",
       "      <th>...</th>\n",
       "      <th>thai</th>\n",
       "      <th>vietnamese</th>\n",
       "      <th>cajun_creole</th>\n",
       "      <th>brazilian</th>\n",
       "      <th>french</th>\n",
       "      <th>japanese</th>\n",
       "      <th>irish</th>\n",
       "      <th>korean</th>\n",
       "      <th>moroccan</th>\n",
       "      <th>russian</th>\n",
       "    </tr>\n",
       "  </thead>\n",
       "  <tbody>\n",
       "    <tr>\n",
       "      <th>0</th>\n",
       "      <td>romaine lettuce</td>\n",
       "      <td>0</td>\n",
       "      <td>0</td>\n",
       "      <td>0</td>\n",
       "      <td>0</td>\n",
       "      <td>0</td>\n",
       "      <td>0</td>\n",
       "      <td>0</td>\n",
       "      <td>0</td>\n",
       "      <td>0</td>\n",
       "      <td>...</td>\n",
       "      <td>0</td>\n",
       "      <td>0</td>\n",
       "      <td>0</td>\n",
       "      <td>0</td>\n",
       "      <td>0</td>\n",
       "      <td>0</td>\n",
       "      <td>0</td>\n",
       "      <td>0</td>\n",
       "      <td>0</td>\n",
       "      <td>0</td>\n",
       "    </tr>\n",
       "    <tr>\n",
       "      <th>1</th>\n",
       "      <td>black olives</td>\n",
       "      <td>0</td>\n",
       "      <td>0</td>\n",
       "      <td>0</td>\n",
       "      <td>0</td>\n",
       "      <td>0</td>\n",
       "      <td>0</td>\n",
       "      <td>0</td>\n",
       "      <td>0</td>\n",
       "      <td>0</td>\n",
       "      <td>...</td>\n",
       "      <td>0</td>\n",
       "      <td>0</td>\n",
       "      <td>0</td>\n",
       "      <td>0</td>\n",
       "      <td>0</td>\n",
       "      <td>0</td>\n",
       "      <td>0</td>\n",
       "      <td>0</td>\n",
       "      <td>0</td>\n",
       "      <td>0</td>\n",
       "    </tr>\n",
       "    <tr>\n",
       "      <th>2</th>\n",
       "      <td>grape tomatoes</td>\n",
       "      <td>0</td>\n",
       "      <td>0</td>\n",
       "      <td>0</td>\n",
       "      <td>0</td>\n",
       "      <td>0</td>\n",
       "      <td>0</td>\n",
       "      <td>0</td>\n",
       "      <td>0</td>\n",
       "      <td>0</td>\n",
       "      <td>...</td>\n",
       "      <td>0</td>\n",
       "      <td>0</td>\n",
       "      <td>0</td>\n",
       "      <td>0</td>\n",
       "      <td>0</td>\n",
       "      <td>0</td>\n",
       "      <td>0</td>\n",
       "      <td>0</td>\n",
       "      <td>0</td>\n",
       "      <td>0</td>\n",
       "    </tr>\n",
       "    <tr>\n",
       "      <th>3</th>\n",
       "      <td>garlic</td>\n",
       "      <td>0</td>\n",
       "      <td>0</td>\n",
       "      <td>0</td>\n",
       "      <td>0</td>\n",
       "      <td>0</td>\n",
       "      <td>0</td>\n",
       "      <td>0</td>\n",
       "      <td>0</td>\n",
       "      <td>0</td>\n",
       "      <td>...</td>\n",
       "      <td>0</td>\n",
       "      <td>0</td>\n",
       "      <td>0</td>\n",
       "      <td>0</td>\n",
       "      <td>0</td>\n",
       "      <td>0</td>\n",
       "      <td>0</td>\n",
       "      <td>0</td>\n",
       "      <td>0</td>\n",
       "      <td>0</td>\n",
       "    </tr>\n",
       "    <tr>\n",
       "      <th>4</th>\n",
       "      <td>pepper</td>\n",
       "      <td>0</td>\n",
       "      <td>0</td>\n",
       "      <td>0</td>\n",
       "      <td>0</td>\n",
       "      <td>0</td>\n",
       "      <td>0</td>\n",
       "      <td>0</td>\n",
       "      <td>0</td>\n",
       "      <td>0</td>\n",
       "      <td>...</td>\n",
       "      <td>0</td>\n",
       "      <td>0</td>\n",
       "      <td>0</td>\n",
       "      <td>0</td>\n",
       "      <td>0</td>\n",
       "      <td>0</td>\n",
       "      <td>0</td>\n",
       "      <td>0</td>\n",
       "      <td>0</td>\n",
       "      <td>0</td>\n",
       "    </tr>\n",
       "  </tbody>\n",
       "</table>\n",
       "<p>5 rows × 21 columns</p>\n",
       "</div>"
      ],
      "text/plain": [
       "   ingredient_name  greek  southern_us  filipino  indian  jamaican  spanish  \\\n",
       "0  romaine lettuce      0            0         0       0         0        0   \n",
       "1     black olives      0            0         0       0         0        0   \n",
       "2   grape tomatoes      0            0         0       0         0        0   \n",
       "3           garlic      0            0         0       0         0        0   \n",
       "4           pepper      0            0         0       0         0        0   \n",
       "\n",
       "   italian  mexican  chinese  ...  thai  vietnamese  cajun_creole  brazilian  \\\n",
       "0        0        0        0  ...     0           0             0          0   \n",
       "1        0        0        0  ...     0           0             0          0   \n",
       "2        0        0        0  ...     0           0             0          0   \n",
       "3        0        0        0  ...     0           0             0          0   \n",
       "4        0        0        0  ...     0           0             0          0   \n",
       "\n",
       "   french  japanese  irish  korean  moroccan  russian  \n",
       "0       0         0      0       0         0        0  \n",
       "1       0         0      0       0         0        0  \n",
       "2       0         0      0       0         0        0  \n",
       "3       0         0      0       0         0        0  \n",
       "4       0         0      0       0         0        0  \n",
       "\n",
       "[5 rows x 21 columns]"
      ]
     },
     "execution_count": 4,
     "metadata": {},
     "output_type": "execute_result"
    }
   ],
   "source": [
    "DF_score = pd.DataFrame({'ingredient_name': single_ingredients}) #create a dataframe with only column with the name of every ingredients\n",
    "DF_matrix = pd.DataFrame(np.zeros((n_single_ingredients, n_single_cuisines), dtype = 'int'), columns=single_cuisines) #create a dataframe with columns = 20 cultures. All the data is 0.\n",
    "DF_score = pd.concat([DF_score,DF_matrix], axis=1)\n",
    "\n",
    "DF_score.head()"
   ]
  },
  {
   "cell_type": "markdown",
   "metadata": {
    "id": "3rn0SAxs_vBs"
   },
   "source": [
    "### Now we will fill the probability coefficients:"
   ]
  },
  {
   "cell_type": "code",
   "execution_count": 5,
   "metadata": {
    "colab": {
     "base_uri": "https://localhost:8080/",
     "height": 226
    },
    "id": "rBW3Sy54XiVl",
    "outputId": "9c447428-9f19-441d-d73a-2543baef98c0"
   },
   "outputs": [
    {
     "data": {
      "text/html": [
       "<div>\n",
       "<style scoped>\n",
       "    .dataframe tbody tr th:only-of-type {\n",
       "        vertical-align: middle;\n",
       "    }\n",
       "\n",
       "    .dataframe tbody tr th {\n",
       "        vertical-align: top;\n",
       "    }\n",
       "\n",
       "    .dataframe thead th {\n",
       "        text-align: right;\n",
       "    }\n",
       "</style>\n",
       "<table border=\"1\" class=\"dataframe\">\n",
       "  <thead>\n",
       "    <tr style=\"text-align: right;\">\n",
       "      <th></th>\n",
       "      <th>ingredient_name</th>\n",
       "      <th>greek</th>\n",
       "      <th>southern_us</th>\n",
       "      <th>filipino</th>\n",
       "      <th>indian</th>\n",
       "      <th>jamaican</th>\n",
       "      <th>spanish</th>\n",
       "      <th>italian</th>\n",
       "      <th>mexican</th>\n",
       "      <th>chinese</th>\n",
       "      <th>...</th>\n",
       "      <th>thai</th>\n",
       "      <th>vietnamese</th>\n",
       "      <th>cajun_creole</th>\n",
       "      <th>brazilian</th>\n",
       "      <th>french</th>\n",
       "      <th>japanese</th>\n",
       "      <th>irish</th>\n",
       "      <th>korean</th>\n",
       "      <th>moroccan</th>\n",
       "      <th>russian</th>\n",
       "    </tr>\n",
       "  </thead>\n",
       "  <tbody>\n",
       "    <tr>\n",
       "      <th>0</th>\n",
       "      <td>romaine lettuce</td>\n",
       "      <td>0.033191</td>\n",
       "      <td>0.001852</td>\n",
       "      <td>0.000000</td>\n",
       "      <td>0.000999</td>\n",
       "      <td>0.000000</td>\n",
       "      <td>0.004044</td>\n",
       "      <td>0.004210</td>\n",
       "      <td>0.015999</td>\n",
       "      <td>0.004863</td>\n",
       "      <td>...</td>\n",
       "      <td>0.012995</td>\n",
       "      <td>0.020606</td>\n",
       "      <td>0.007762</td>\n",
       "      <td>0.000000</td>\n",
       "      <td>0.004535</td>\n",
       "      <td>0.000000</td>\n",
       "      <td>0.001499</td>\n",
       "      <td>0.006024</td>\n",
       "      <td>0.000000</td>\n",
       "      <td>0.000000</td>\n",
       "    </tr>\n",
       "    <tr>\n",
       "      <th>1</th>\n",
       "      <td>black olives</td>\n",
       "      <td>0.026383</td>\n",
       "      <td>0.000694</td>\n",
       "      <td>0.000000</td>\n",
       "      <td>0.000000</td>\n",
       "      <td>0.000000</td>\n",
       "      <td>0.004044</td>\n",
       "      <td>0.008548</td>\n",
       "      <td>0.014290</td>\n",
       "      <td>0.000000</td>\n",
       "      <td>...</td>\n",
       "      <td>0.000000</td>\n",
       "      <td>0.000000</td>\n",
       "      <td>0.001294</td>\n",
       "      <td>0.000000</td>\n",
       "      <td>0.007937</td>\n",
       "      <td>0.000000</td>\n",
       "      <td>0.000000</td>\n",
       "      <td>0.000000</td>\n",
       "      <td>0.009744</td>\n",
       "      <td>0.002045</td>\n",
       "    </tr>\n",
       "    <tr>\n",
       "      <th>2</th>\n",
       "      <td>grape tomatoes</td>\n",
       "      <td>0.022128</td>\n",
       "      <td>0.003241</td>\n",
       "      <td>0.001325</td>\n",
       "      <td>0.001665</td>\n",
       "      <td>0.000000</td>\n",
       "      <td>0.006067</td>\n",
       "      <td>0.012503</td>\n",
       "      <td>0.008232</td>\n",
       "      <td>0.000748</td>\n",
       "      <td>...</td>\n",
       "      <td>0.002599</td>\n",
       "      <td>0.000000</td>\n",
       "      <td>0.003234</td>\n",
       "      <td>0.000000</td>\n",
       "      <td>0.004913</td>\n",
       "      <td>0.000703</td>\n",
       "      <td>0.000000</td>\n",
       "      <td>0.000000</td>\n",
       "      <td>0.000000</td>\n",
       "      <td>0.000000</td>\n",
       "    </tr>\n",
       "    <tr>\n",
       "      <th>3</th>\n",
       "      <td>garlic</td>\n",
       "      <td>0.183830</td>\n",
       "      <td>0.059954</td>\n",
       "      <td>0.430464</td>\n",
       "      <td>0.241758</td>\n",
       "      <td>0.264259</td>\n",
       "      <td>0.129424</td>\n",
       "      <td>0.187675</td>\n",
       "      <td>0.204567</td>\n",
       "      <td>0.285447</td>\n",
       "      <td>...</td>\n",
       "      <td>0.269006</td>\n",
       "      <td>0.289697</td>\n",
       "      <td>0.239327</td>\n",
       "      <td>0.175589</td>\n",
       "      <td>0.080877</td>\n",
       "      <td>0.116655</td>\n",
       "      <td>0.076462</td>\n",
       "      <td>0.365060</td>\n",
       "      <td>0.174178</td>\n",
       "      <td>0.040900</td>\n",
       "    </tr>\n",
       "    <tr>\n",
       "      <th>4</th>\n",
       "      <td>pepper</td>\n",
       "      <td>0.172766</td>\n",
       "      <td>0.127083</td>\n",
       "      <td>0.263576</td>\n",
       "      <td>0.068265</td>\n",
       "      <td>0.237643</td>\n",
       "      <td>0.134479</td>\n",
       "      <td>0.123118</td>\n",
       "      <td>0.125194</td>\n",
       "      <td>0.059110</td>\n",
       "      <td>...</td>\n",
       "      <td>0.052632</td>\n",
       "      <td>0.086061</td>\n",
       "      <td>0.122251</td>\n",
       "      <td>0.119914</td>\n",
       "      <td>0.078987</td>\n",
       "      <td>0.043570</td>\n",
       "      <td>0.130435</td>\n",
       "      <td>0.119277</td>\n",
       "      <td>0.114495</td>\n",
       "      <td>0.120654</td>\n",
       "    </tr>\n",
       "  </tbody>\n",
       "</table>\n",
       "<p>5 rows × 21 columns</p>\n",
       "</div>"
      ],
      "text/plain": [
       "   ingredient_name     greek  southern_us  filipino    indian  jamaican  \\\n",
       "0  romaine lettuce  0.033191     0.001852  0.000000  0.000999  0.000000   \n",
       "1     black olives  0.026383     0.000694  0.000000  0.000000  0.000000   \n",
       "2   grape tomatoes  0.022128     0.003241  0.001325  0.001665  0.000000   \n",
       "3           garlic  0.183830     0.059954  0.430464  0.241758  0.264259   \n",
       "4           pepper  0.172766     0.127083  0.263576  0.068265  0.237643   \n",
       "\n",
       "    spanish   italian   mexican   chinese  ...      thai  vietnamese  \\\n",
       "0  0.004044  0.004210  0.015999  0.004863  ...  0.012995    0.020606   \n",
       "1  0.004044  0.008548  0.014290  0.000000  ...  0.000000    0.000000   \n",
       "2  0.006067  0.012503  0.008232  0.000748  ...  0.002599    0.000000   \n",
       "3  0.129424  0.187675  0.204567  0.285447  ...  0.269006    0.289697   \n",
       "4  0.134479  0.123118  0.125194  0.059110  ...  0.052632    0.086061   \n",
       "\n",
       "   cajun_creole  brazilian    french  japanese     irish    korean  moroccan  \\\n",
       "0      0.007762   0.000000  0.004535  0.000000  0.001499  0.006024  0.000000   \n",
       "1      0.001294   0.000000  0.007937  0.000000  0.000000  0.000000  0.009744   \n",
       "2      0.003234   0.000000  0.004913  0.000703  0.000000  0.000000  0.000000   \n",
       "3      0.239327   0.175589  0.080877  0.116655  0.076462  0.365060  0.174178   \n",
       "4      0.122251   0.119914  0.078987  0.043570  0.130435  0.119277  0.114495   \n",
       "\n",
       "    russian  \n",
       "0  0.000000  \n",
       "1  0.002045  \n",
       "2  0.000000  \n",
       "3  0.040900  \n",
       "4  0.120654  \n",
       "\n",
       "[5 rows x 21 columns]"
      ]
     },
     "execution_count": 5,
     "metadata": {},
     "output_type": "execute_result"
    }
   ],
   "source": [
    "\n",
    "for cuisine in single_cuisines : #for each culture or country.e.g: Vietnam\n",
    "    for ingredient in sorted_not_specific_ingredients[cuisine]: #for each ingredient in the list of common ingredient that are used by VietNam\n",
    "        DF_score.loc[DF_score['ingredient_name'] == ingredient, cuisine] = sorted_ingredients[cuisine][ingredient]/recipe_by_cuisine[cuisine] # Pounded by the number of reciepe by cuisine\n",
    "    for ingredient in specific_ingredients[cuisine]:\n",
    "        DF_score.loc[DF_score['ingredient_name'] == ingredient, cuisine] = 100*sorted_ingredients[cuisine][ingredient]/recipe_by_cuisine[cuisine] # Ingredients that are specific to one cuisine increase the probability of the dish of being of this cuisine\n",
    "DF_score.head()\n"
   ]
  },
  {
   "cell_type": "markdown",
   "metadata": {
    "id": "olYU5DFmMEC0"
   },
   "source": [
    "### Now we create some functions that takes the sum of all the ingredients' probabilty in each culture, and return the culture with the highest sum of probability"
   ]
  },
  {
   "cell_type": "code",
   "execution_count": 6,
   "metadata": {
    "id": "Jtb2heXxbXFN"
   },
   "outputs": [],
   "source": [
    "def evaluate_cuisine_score(ing_list): #This function is to sum all of the score of each cuisine of each ingredient.\n",
    "    score = dict.fromkeys(single_cuisines,0)\n",
    "    for ing in ing_list:\n",
    "        for cuisine in single_cuisines:\n",
    "            if not DF_score.loc[DF_score['ingredient_name'] == ing, cuisine].empty: # Check that dataset is not empty\n",
    "                score[cuisine] += DF_score.loc[DF_score['ingredient_name'] == ing, cuisine].item()\n",
    "    return score"
   ]
  },
  {
   "cell_type": "code",
   "execution_count": 7,
   "metadata": {
    "id": "issYPW1tbZxl"
   },
   "outputs": [],
   "source": [
    "def find_cuisine_from_score(score): \n",
    "    return [key for m in [max(score.values())] for key,val in score.items() if val == m] # list containing the keys of the highest values of the score dict\n",
    "\n",
    "# 3.3 Function which finds the possible cusisines of an ingredient list\n",
    "def find_cuisine(ing_list):\n",
    "    return find_cuisine_from_score(evaluate_cuisine_score(ing_list))"
   ]
  },
  {
   "cell_type": "markdown",
   "metadata": {
    "id": "rUp396uINOKQ"
   },
   "source": [
    "### Make a test with the first cuisine on the train dataset, which is a Greek cuisine"
   ]
  },
  {
   "cell_type": "code",
   "execution_count": 8,
   "metadata": {
    "colab": {
     "base_uri": "https://localhost:8080/",
     "height": 335
    },
    "id": "M36mw-95bZvb",
    "outputId": "5ee3fab6-0868-4f67-e804-fed803c2f325"
   },
   "outputs": [
    {
     "name": "stdout",
     "output_type": "stream",
     "text": [
      "The cuisine of the above ingredients is from: ['greek']\n"
     ]
    },
    {
     "data": {
      "image/png": "[encoded data removed]",
      "text/plain": [
       "<Figure size 432x288 with 1 Axes>"
      ]
     },
     "metadata": {
      "needs_background": "light"
     },
     "output_type": "display_data"
    }
   ],
   "source": [
    "import matplotlib.pyplot as plt\n",
    "ing_list = ['romaine lettuce','black olives','grape tomatoes','garlic','pepper','purple onion','seasoning','garbanzo beans','feta cheese crumbles']\n",
    "D = evaluate_cuisine_score(ing_list)\n",
    "plt.bar(range(len(D)), list(D.values()), align='center')\n",
    "plt.xticks(range(len(D)), list(D.keys()), rotation='vertical')\n",
    "print (\"The cuisine of the above ingredients is from:\" ,find_cuisine(ing_list))"
   ]
  },
  {
   "cell_type": "markdown",
   "metadata": {
    "id": "Q3_-AETkNjMS"
   },
   "source": [
    "##### The above cell has returned exactly what we want. The bar plot represents the probability of the given list of ingredients being in different cultures, from which we can see Greek dominates the others. Now we will write some lines of codes to take the input and print out the result.\n"
   ]
  },
  {
   "cell_type": "markdown",
   "metadata": {
    "id": "Qj-ryZyKdwQl"
   },
   "source": [
    "# This is our program predicting the name of the cuisine, taking input from user:"
   ]
  },
  {
   "cell_type": "markdown",
   "metadata": {
    "id": "xj31uKb7hFby"
   },
   "source": [
    "### Please input a list of ingredients separated by a comma, please <b> don't </b> include any <b> quotation mark </b> or space <br><br>Example of valid input:plain flour,ground pepper,salt,tomatoes,ground black pepper,thyme,eggs,green tomatoes,yellow corn meal,milk,vegetable oil"
   ]
  },
  {
   "cell_type": "code",
   "execution_count": 15,
   "metadata": {
    "colab": {
     "base_uri": "https://localhost:8080/",
     "height": 390
    },
    "id": "Ou8HptDpbZmk",
    "outputId": "7058d755-2e2d-4100-ae9a-a8dc92cf77d3"
   },
   "outputs": [
    {
     "name": "stdout",
     "output_type": "stream",
     "text": [
      "Fill in a list of ingredients, separated by just a comma, please don't include any quotation mark: plain flour,ground pepper,salt,tomatoes,ground black pepper,thyme,eggs,green tomatoes,yellow corn meal,milk,vegetable oil\n",
      "\n",
      " The cuisine of the above ingredients is from: ['southern_us']\n"
     ]
    },
    {
     "data": {
      "image/png": "[encoded data removed]",
      "text/plain": [
       "<Figure size 432x288 with 1 Axes>"
      ]
     },
     "metadata": {
      "needs_background": "light"
     },
     "output_type": "display_data"
    }
   ],
   "source": [
    "input_ingredient = input(\"Fill in a list of ingredients, separated by just a comma, please don't include any quotation mark: \")\n",
    "list_of_input_ingredient = input_ingredient.split (\",\")\n",
    "#print (\"list: \", list_of_input_ingredient)\n",
    "D = evaluate_cuisine_score(list_of_input_ingredient)\n",
    "plt.bar(range(len(D)), list(D.values()), align='center')\n",
    "plt.xticks(range(len(D)), list(D.keys()), rotation='vertical')\n",
    "print (\"\\n The cuisine of the above ingredients is from:\", str(find_cuisine(list_of_input_ingredient)))"
   ]
  },
  {
   "cell_type": "markdown",
   "metadata": {
    "id": "-L4nkKY9i9jb"
   },
   "source": [
    "### If you want to try one more time, simply run the above cell again. \n",
    "\n",
    "Since we also draw a bar plot for each user's input, it would be a problem if we use a loop to input multiple times in just one cell of code, which will draw multiple bar plots at the same time."
   ]
  },
  {
   "cell_type": "markdown",
   "metadata": {
    "id": "mnjNQ_fTkJHi"
   },
   "source": [
    "# Finally, it is a program to predict if an ingredient is unique to one culture (only used by that culture) or if the ingredient is common (used by two cultures or more)"
   ]
  },
  {
   "cell_type": "code",
   "execution_count": 14,
   "metadata": {
    "colab": {
     "base_uri": "https://localhost:8080/"
    },
    "id": "SRZ9N1bny0LU",
    "outputId": "315aea5d-a2f7-458d-8946-fc847dc98efd"
   },
   "outputs": [
    {
     "name": "stdout",
     "output_type": "stream",
     "text": [
      "Fill in the name of an ingredient, we will find which cultures use it and if it is popular or not!: \n"
     ]
    }
   ],
   "source": [
    "find_ingredient = input(\"Fill in the name of an ingredient, we will find which cultures use it and if it is popular or not!: \")\n",
    "if find_ingredient in not_specific_ingredients:\n",
    "  print(find_ingredient, \"is popular and used by many cultures and countries!\")\n",
    "else:\n",
    "  for cuisine in single_cuisines:\n",
    "    if find_ingredient in specific_ingredients[cuisine]:\n",
    "      print(\"This ingredient is specific and only used by: \", cuisine)\n",
    "      break;"
   ]
  },
  {
   "cell_type": "code",
   "execution_count": null,
   "metadata": {
    "id": "9ciCv2b5kmxa"
   },
   "outputs": [],
   "source": []
  }
 ],
 "metadata": {
  "colab": {
   "collapsed_sections": [],
   "name": "Programs.ipynb",
   "provenance": []
  },
  "kernelspec": {
   "display_name": "Python 3",
   "language": "python",
   "name": "python3"
  },
  "language_info": {
   "codemirror_mode": {
    "name": "ipython",
    "version": 3
   },
   "file_extension": ".py",
   "mimetype": "text/x-python",
   "name": "python",
   "nbconvert_exporter": "python",
   "pygments_lexer": "ipython3",
   "version": "3.8.5"
  }
 },
 "nbformat": 4,
 "nbformat_minor": 1
}
